{
 "cells": [
  {
   "cell_type": "code",
   "execution_count": 100,
   "metadata": {},
   "outputs": [
    {
     "name": "stdout",
     "output_type": "stream",
     "text": [
      "10th iteration error: 0.21014423579275524\n",
      "20th iteration error: 0.08186010883430483\n",
      "30th iteration error: 0.035392660883016715\n",
      "40th iteration error: 0.018300173022428593\n",
      "50th iteration error: 0.011778830313631415\n",
      "60th iteration error: 0.009083925888734619\n",
      "70th iteration error: 0.007794129583684037\n",
      "80th iteration error: 0.007038303779544862\n",
      "90th iteration error: 0.006501325682429548\n",
      "100th iteration error: 0.006067661199941124\n",
      "110th iteration error: 0.005693566354034277\n",
      "120th iteration error: 0.00536125077377033\n",
      "130th iteration error: 0.005062425548563065\n",
      "140th iteration error: 0.004792386872156654\n",
      "150th iteration error: 0.0045478783514015355\n",
      "160th iteration error: 0.004326309483056159\n",
      "170th iteration error: 0.0041254617205742\n",
      "180th iteration error: 0.003943370624601538\n",
      "190th iteration error: 0.003778272305776882\n",
      "200th iteration error: 0.003628573974714014\n"
     ]
    },
    {
     "data": {
      "image/png": "[encoded data removed]",
      "text/plain": [
       "<Figure size 432x288 with 1 Axes>"
      ]
     },
     "metadata": {
      "needs_background": "light"
     },
     "output_type": "display_data"
    }
   ],
   "source": [
    "# import necessary libraries\n",
    "import pandas as pd\n",
    "import numpy as np\n",
    "import matplotlib.pyplot as plt\n",
    "\n",
    "# read dataset\n",
    "advertising = pd.read_csv('resources/datasets/advertising.csv')\n",
    "x = normalize(advertising[['TV','radio','newspaper']].values)\n",
    "y = normalize(advertising[['sales']].values)\n",
    "\n",
    "# normalize data\n",
    "def normalize(data):\n",
    "    for row in data.T:\n",
    "        f_mean = np.mean(row)\n",
    "        f_range = np.amax(row) - np.amin(row)\n",
    "        \n",
    "        row -= f_mean\n",
    "        row /= f_range\n",
    "    return data\n",
    "\n",
    "# predict\n",
    "def predict(x, weights, bias):\n",
    "    return np.dot(x, weights) + bias\n",
    "    \n",
    "# error and calculate cost\n",
    "def mean_square_error(y_hat, y):\n",
    "    n = y_hat.shape[0]\n",
    "    error = (y - y_hat)\n",
    "    sq_error = np.multiply(error, error)\n",
    "    return (1 / (2 * n)) * sq_error.sum()\n",
    "\n",
    "# update weight\n",
    "def update_parameters(x, y, y_hat, weights, bias, learning_rate=0.05):\n",
    "    \n",
    "    n = x.shape[0]\n",
    "    \n",
    "    # calculate error\n",
    "    error = y - y_hat\n",
    "    \n",
    "    # calculate derivatives \n",
    "    dw = np.dot(-x.T, error) / n\n",
    "    db = -error.sum() / n\n",
    "    \n",
    "    # update w and b\n",
    "    weights -= dw * learning_rate\n",
    "    bias -= db * learning_rate\n",
    "\n",
    "# fit\n",
    "def train(x, y, iterations=200):\n",
    "    # initialize weights and bias\n",
    "    w = np.random.rand(3,1)\n",
    "    b = np.ones((1,1))\n",
    "\n",
    "    for n in range(iterations):\n",
    "        y_hat = predict(x, w, b)\n",
    "        update_parameters(x, y, y_hat, w, b)\n",
    "        \n",
    "        if (n + 1) % 10 == 0:\n",
    "            print(\"%ith iteration error: %s\" % (n + 1, mean_square_error(y_hat, y)))\n",
    "    \n",
    "    return w, b\n",
    "\n",
    "w, b = train(x, y)\n",
    "\n",
    "ys = []\n",
    "xs = []\n",
    "\n",
    "for i in range(-10, 10):\n",
    "    if i == 0:\n",
    "        continue\n",
    "    xs.append(1/i)\n",
    "    ys.append(w[0, 0] * (1/i) + b[0, 0])\n",
    "\n",
    "xs.reverse()\n",
    "ys.reverse()\n",
    "\n",
    "plt.plot(x[:,0], y, 'ro')\n",
    "plt.plot(xs, ys)\n",
    "plt.axis([-1, 1, -1, 1])\n",
    "plt.show()\n"
   ]
  }
 ],
 "metadata": {
  "kernelspec": {
   "display_name": "Python 3",
   "language": "python",
   "name": "python3"
  },
  "language_info": {
   "codemirror_mode": {
    "name": "ipython",
    "version": 3
   },
   "file_extension": ".py",
   "mimetype": "text/x-python",
   "name": "python",
   "nbconvert_exporter": "python",
   "pygments_lexer": "ipython3",
   "version": "3.7.1"
  }
 },
 "nbformat": 4,
 "nbformat_minor": 2
}
