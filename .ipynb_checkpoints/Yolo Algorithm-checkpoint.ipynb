{
 "cells": [
  {
   "cell_type": "code",
   "execution_count": 81,
   "metadata": {},
   "outputs": [],
   "source": [
    "import tensorflow as tf"
   ]
  },
  {
   "cell_type": "code",
   "execution_count": 82,
   "metadata": {},
   "outputs": [],
   "source": [
    "def filter_boxes(box_confidence, boxes, box_class_probs, threshold = .6):\n",
    "    # Compute box scores\n",
    "    box_scores = box_confidence * box_class_probs\n",
    "    \n",
    "    # Find the box_classes thanks to the max box_scores, keep track of the corresponding score\n",
    "    box_classes = tf.argmax(box_scores, axis=-1)\n",
    "    box_class_scores = tf.reduce_max(box_scores, axis=-1)\n",
    "    \n",
    "    # Create a filtering mask based on \"box_class_scores\" by using \"threshold\". The mask should have the\n",
    "    filtering_mask = (box_class_scores >= threshold)\n",
    "    \n",
    "    # Apply the mask to scores, boxes and classes\n",
    "    scores = tf.boolean_mask(box_class_scores, filtering_mask)\n",
    "    boxes = tf.boolean_mask(boxes, filtering_mask)\n",
    "    classes = tf.boolean_mask(box_classes, filtering_mask)\n",
    "    \n",
    "    return scores, boxes, classes"
   ]
  },
  {
   "cell_type": "code",
   "execution_count": 83,
   "metadata": {},
   "outputs": [],
   "source": [
    "def box_area(box):\n",
    "    y1 = box[0]; x1 = box[1]; y2 = box[2]; x2 = box[3]    \n",
    "    return tf.maximum(x2 - x1, 0) * tf.maximum(y2 - y1, 0)\n",
    "\n",
    "def iou(box1, box2):\n",
    "    # Calculate the (y1, x1, y2, x2) coordinates of the intersection of box1 and box2.\n",
    "    y1 = tf.maximum(box1[0], box2[0])\n",
    "    x1 = tf.maximum(box1[1], box2[1])\n",
    "    y2 = tf.minimum(box1[2], box2[2])\n",
    "    x2 = tf.minimum(box1[3], box2[3])\n",
    "    intersection_box = (y1, x1, y2, x2)\n",
    "    inter_area = box_area(intersection_box)\n",
    "\n",
    "    # Calculate the Union area by using Formula: Union(A,B) = A + B - Inter(A,B)\n",
    "    union_area = box_area(box1) + box_area(box2) - inter_area\n",
    "    \n",
    "    # Compute the IoU\n",
    "    iou = inter_area / union_area\n",
    "    \n",
    "    return iou"
   ]
  },
  {
   "cell_type": "code",
   "execution_count": 84,
   "metadata": {},
   "outputs": [],
   "source": [
    "def non_max_suppression(scores, boxes, classes, max_boxes = 10, iou_threshold = 0.5):\n",
    "    \n",
    "    max_boxes_tensor = tf.Variable(max_boxes, dtype='int32')\n",
    "    tf.variables_initializer([max_boxes_tensor])\n",
    "    \n",
    "    selected_indices = tf.image.non_max_suppression(\n",
    "        boxes,\n",
    "        scores,\n",
    "        max_boxes,\n",
    "        iou_threshold\n",
    "    )\n",
    "        \n",
    "    scores = tf.gather(scores, selected_indices)\n",
    "    boxes = tf.gather(boxes, selected_indices)\n",
    "    classes = tf.gather(classes, selected_indices)\n",
    "    \n",
    "    return scores, boxes, classes"
   ]
  },
  {
   "cell_type": "code",
   "execution_count": 85,
   "metadata": {},
   "outputs": [],
   "source": [
    "def yolo_boxes_to_corners(box_xy, box_wh):\n",
    "    box_xy2 = box_xy + box_wh / 2.\n",
    "    box_xy1 = box_xy - box_wh / 2.\n",
    "    box_xy_wh = tf.concat([\n",
    "        box_xy1[..., 1:2],\n",
    "        box_xy1[..., 0:1], \n",
    "        box_xy2[..., 1:2],\n",
    "        box_xy2[..., 0:1]\n",
    "    ], -1)\n",
    "    return box_xy_wh\n",
    "\n",
    "\n",
    "def scale_boxes(boxes, image_shape):\n",
    "    image_shape_4d = [image_shape[0], image_shape[1], image_shape[0], image_shape[1]]\n",
    "    image_shape_tensor = tf.Variable(image_shape_4d, dtype='float')\n",
    "    tf.variables_initializer([image_shape_tensor])\n",
    "    return tf.multiply(boxes,image_shape_4d)\n",
    "\n",
    "    \n",
    "def yolo_eval(yolo_outputs, image_shape = (720., 1280.), max_boxes=10, score_threshold=.6, iou_threshold=.5):\n",
    "    # Retrieve outputs of the YOLO model\n",
    "    box_confidence, box_xy, box_wh, box_class_probs = yolo_outputs\n",
    "    \n",
    "    # Convert boxes to be ready for filtering functions \n",
    "    boxes = yolo_boxes_to_corners(box_xy, box_wh)\n",
    "    \n",
    "    # Use one of the functions you've implemented to perform Score-filtering with a threshold of score_threshold\n",
    "    scores, boxes, classes = filter_boxes(box_confidence, boxes, box_class_probs, score_threshold)\n",
    "    \n",
    "    # Scale boxes back to original image shape.\n",
    "    boxes = scale_boxes(boxes, image_shape)\n",
    "        \n",
    "    # Use one of the functions you've implemented to perform Non-max suppression with a threshold of iou_threshold\n",
    "    scores, boxes, classes = non_max_suppression(scores, boxes, classes, max_boxes, iou_threshold)\n",
    "    \n",
    "    return scores, boxes, classes\n",
    "    "
   ]
  }
 ],
 "metadata": {
  "kernelspec": {
   "display_name": "Python 3",
   "language": "python",
   "name": "python3"
  },
  "language_info": {
   "codemirror_mode": {
    "name": "ipython",
    "version": 3
   },
   "file_extension": ".py",
   "mimetype": "text/x-python",
   "name": "python",
   "nbconvert_exporter": "python",
   "pygments_lexer": "ipython3",
   "version": "3.6.3"
  }
 },
 "nbformat": 4,
 "nbformat_minor": 2
}
