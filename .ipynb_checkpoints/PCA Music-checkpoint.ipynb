{
 "cells": [
  {
   "cell_type": "code",
   "execution_count": 1,
   "metadata": {},
   "outputs": [],
   "source": [
    "# load necessary libraries\n",
    "from scipy.io import wavfile\n",
    "import matplotlib.pyplot as plt\n",
    "import numpy as np\n",
    "import utility\n",
    "%matplotlib inline"
   ]
  },
  {
   "cell_type": "code",
   "execution_count": 2,
   "metadata": {},
   "outputs": [],
   "source": [
    "# read music files\n",
    "BASE_DIR = 'resources/music/'\n",
    "SAMPLES = 10000\n",
    "CHANNELS = 1\n",
    "\n",
    "file_names = [\n",
    "    'classical/fur_elise.wav', 'classical/amadeus.wav', 'classical/turkish_march.wav', \n",
    "    'rock/thunderstruck.wav', 'rock/rock_you_like_a_hurricane.wav', 'rock/sweet_child_o_mine.wav'\n",
    "]\n",
    "\n",
    "songs = []\n",
    "\n",
    "for file_name in file_names:\n",
    "    fs, sig = wavfile.read('{}{}'.format(BASE_DIR, file_name))\n",
    "    sig = utility.pcm2float(sig, 'float32')\n",
    "    sig = sig[:SAMPLES, :1]\n",
    "    songs.append(sig)\n",
    "    \n",
    "songs = np.array(songs).reshape((len(file_names), SAMPLES))"
   ]
  },
  {
   "cell_type": "code",
   "execution_count": 3,
   "metadata": {},
   "outputs": [],
   "source": [
    "# normalize song\n",
    "songs_norm = songs / np.linalg.norm(songs)"
   ]
  },
  {
   "cell_type": "code",
   "execution_count": 4,
   "metadata": {},
   "outputs": [],
   "source": [
    "# calculate the covariance's matrix eigenvectors\n",
    "songs_cov = np.dot(songs_norm.T, songs_norm)\n",
    "eigenvalues, eigenvectors = np.linalg.eigh(songs_cov)"
   ]
  },
  {
   "cell_type": "code",
   "execution_count": 19,
   "metadata": {},
   "outputs": [],
   "source": [
    "# calculate average music styles\n",
    "avg_classical = np.mean(songs_norm[:3], axis=0)\n",
    "avg_rock = np.mean(songs_norm[3:], axis=0)"
   ]
  },
  {
   "cell_type": "code",
   "execution_count": 51,
   "metadata": {},
   "outputs": [],
   "source": [
    "# project avg song types into the eigenvectors space (using n = 20)\n",
    "n = 20\n",
    "projected_classical = np.matmul(avg_classical.reshape((1, SAMPLES)), eigenvectors[:, :n])\n",
    "projected_rock = np.matmul(avg_rock.reshape((1, SAMPLES)), eigenvectors[:, :n])"
   ]
  },
  {
   "cell_type": "code",
   "execution_count": 55,
   "metadata": {},
   "outputs": [
    {
     "data": {
      "text/plain": [
       "Text(0.5, 1.0, 'Rock')"
      ]
     },
     "execution_count": 55,
     "metadata": {},
     "output_type": "execute_result"
    },
    {
     "data": {
      "image/png": "[encoded data removed]",
      "text/plain": [
       "<Figure size 432x288 with 1 Axes>"
      ]
     },
     "metadata": {
      "needs_background": "light"
     },
     "output_type": "display_data"
    },
    {
     "data": {
      "image/png": "[encoded data removed]",
      "text/plain": [
       "<Figure size 432x288 with 1 Axes>"
      ]
     },
     "metadata": {
      "needs_background": "light"
     },
     "output_type": "display_data"
    }
   ],
   "source": [
    "# plot bar charts for each style\n",
    "bar_width = 0.35\n",
    "index = np.arange(20)\n",
    "y_classical = projected_classical[0]\n",
    "y_rock = projected_rock[0]\n",
    "\n",
    "fig, ax = plt.subplots()\n",
    "classical_bars = ax.bar(index, y_classical, bar_width, color='b', label='Classical')\n",
    "ax.set_title('Classical')\n",
    "\n",
    "fig, ax = plt.subplots()\n",
    "rock_bars = ax.bar(index, y_rock, bar_width, color='b', label='Rock')\n",
    "ax.set_title('Rock')"
   ]
  },
  {
   "cell_type": "code",
   "execution_count": 66,
   "metadata": {},
   "outputs": [
    {
     "name": "stdout",
     "output_type": "stream",
     "text": [
      "Classical Example Distance (Classical): 4.371338e-08\n",
      "Rock Example Distance (Classical): 6.22358e-08\n",
      "Classical Example Distance (Rock): 1.5407863e-07\n",
      "Rock Example Distance (Rock): 1.0352872e-07\n"
     ]
    },
    {
     "data": {
      "image/png": "[encoded data removed]",
      "text/plain": [
       "<Figure size 432x288 with 1 Axes>"
      ]
     },
     "metadata": {
      "needs_background": "light"
     },
     "output_type": "display_data"
    },
    {
     "data": {
      "image/png": "[encoded data removed]",
      "text/plain": [
       "<Figure size 432x288 with 1 Axes>"
      ]
     },
     "metadata": {
      "needs_background": "light"
     },
     "output_type": "display_data"
    }
   ],
   "source": [
    "# test with some data\n",
    "classical_example = songs_norm[2]\n",
    "projected_classical_example = np.matmul(classical_example.reshape((1, SAMPLES)), eigenvectors[:, :n])\n",
    "y_classical_example = projected_classical_example[0]\n",
    "\n",
    "fig, ax = plt.subplots()\n",
    "classical_bars = ax.bar(index, y_classical_example, bar_width, color='b', label='Classical Example')\n",
    "ax.set_title('Classical Example')\n",
    "\n",
    "classical_distance_classical = np.linalg.norm(y_classical_example-y_classical)\n",
    "rock_distance_classical = np.linalg.norm(y_classical_example-y_rock)\n",
    "print(\"Classical Example Distance (Classical): %s\" % classical_distance_classical)\n",
    "print(\"Rock Example Distance (Classical): %s\" % rock_distance_classical)\n",
    "\n",
    "rock_Example = songs_norm[4]\n",
    "projected_rock_Example = np.matmul(rock_Example.reshape((1, SAMPLES)), eigenvectors[:, :n])\n",
    "y_rock_Example = projected_rock_Example[0]\n",
    "\n",
    "fig, ax = plt.subplots()\n",
    "classical_bars = ax.bar(index, y_rock_Example, bar_width, color='b', label='Rock Example')\n",
    "ax.set_title('Rock Example')\n",
    "\n",
    "classical_distance_rock_Example = np.linalg.norm(y_rock_Example-y_classical)\n",
    "rock_distance_rock_Example = np.linalg.norm(y_rock_Example-y_rock)\n",
    "print(\"Classical Example Distance (Rock): %s\" % classical_distance_rock_Example)\n",
    "print(\"Rock Example Distance (Rock): %s\" % rock_distance_rock_Example)"
   ]
  },
  {
   "cell_type": "code",
   "execution_count": null,
   "metadata": {},
   "outputs": [],
   "source": []
  }
 ],
 "metadata": {
  "kernelspec": {
   "display_name": "Python 3",
   "language": "python",
   "name": "python3"
  },
  "language_info": {
   "codemirror_mode": {
    "name": "ipython",
    "version": 3
   },
   "file_extension": ".py",
   "mimetype": "text/x-python",
   "name": "python",
   "nbconvert_exporter": "python",
   "pygments_lexer": "ipython3",
   "version": "3.7.1"
  }
 },
 "nbformat": 4,
 "nbformat_minor": 2
}
