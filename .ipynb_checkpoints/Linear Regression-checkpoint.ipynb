{
 "cells": [
  {
   "cell_type": "code",
   "execution_count": 72,
   "metadata": {},
   "outputs": [
    {
     "name": "stdout",
     "output_type": "stream",
     "text": [
      "10th iteration error: 0.22191838003879702\n",
      "20th iteration error: 0.09258139109947094\n",
      "30th iteration error: 0.04515674616508877\n",
      "40th iteration error: 0.027193969249964863\n",
      "50th iteration error: 0.019881293435287082\n",
      "60th iteration error: 0.016466790718183293\n",
      "70th iteration error: 0.014522573263604718\n",
      "80th iteration error: 0.013171548092358161\n",
      "90th iteration error: 0.012093183858682504\n",
      "100th iteration error: 0.011167034351968854\n"
     ]
    },
    {
     "ename": "TypeError",
     "evalue": "'NoneType' object is not iterable",
     "output_type": "error",
     "traceback": [
      "\u001b[0;31m---------------------------------------------------------------------------\u001b[0m",
      "\u001b[0;31mTypeError\u001b[0m                                 Traceback (most recent call last)",
      "\u001b[0;32m<ipython-input-72-1a4548cd2673>\u001b[0m in \u001b[0;36m<module>\u001b[0;34m\u001b[0m\n\u001b[1;32m     66\u001b[0m \u001b[0mxs\u001b[0m \u001b[0;34m=\u001b[0m \u001b[0;34m[\u001b[0m\u001b[0;34m]\u001b[0m\u001b[0;34m\u001b[0m\u001b[0;34m\u001b[0m\u001b[0m\n\u001b[1;32m     67\u001b[0m \u001b[0;34m\u001b[0m\u001b[0m\n\u001b[0;32m---> 68\u001b[0;31m \u001b[0;32mfor\u001b[0m \u001b[0mi\u001b[0m \u001b[0;32min\u001b[0m \u001b[0mlist\u001b[0m\u001b[0;34m(\u001b[0m\u001b[0mrange\u001b[0m\u001b[0;34m(\u001b[0m\u001b[0;36m1\u001b[0m\u001b[0;34m,\u001b[0m \u001b[0;36m10\u001b[0m\u001b[0;34m)\u001b[0m\u001b[0;34m)\u001b[0m\u001b[0;34m.\u001b[0m\u001b[0mreverse\u001b[0m\u001b[0;34m(\u001b[0m\u001b[0;34m)\u001b[0m\u001b[0;34m:\u001b[0m\u001b[0;34m\u001b[0m\u001b[0;34m\u001b[0m\u001b[0m\n\u001b[0m\u001b[1;32m     69\u001b[0m     \u001b[0mxs\u001b[0m\u001b[0;34m.\u001b[0m\u001b[0mappend\u001b[0m\u001b[0;34m(\u001b[0m\u001b[0;36m1\u001b[0m\u001b[0;34m/\u001b[0m\u001b[0mi\u001b[0m\u001b[0;34m)\u001b[0m\u001b[0;34m\u001b[0m\u001b[0;34m\u001b[0m\u001b[0m\n\u001b[1;32m     70\u001b[0m     \u001b[0mys\u001b[0m\u001b[0;34m.\u001b[0m\u001b[0mappend\u001b[0m\u001b[0;34m(\u001b[0m\u001b[0mw\u001b[0m\u001b[0;34m[\u001b[0m\u001b[0;36m0\u001b[0m\u001b[0;34m,\u001b[0m \u001b[0;36m0\u001b[0m\u001b[0;34m]\u001b[0m \u001b[0;34m*\u001b[0m \u001b[0;34m(\u001b[0m\u001b[0;36m1\u001b[0m\u001b[0;34m/\u001b[0m\u001b[0mi\u001b[0m\u001b[0;34m)\u001b[0m \u001b[0;34m+\u001b[0m \u001b[0mb\u001b[0m\u001b[0;34m[\u001b[0m\u001b[0;36m0\u001b[0m\u001b[0;34m,\u001b[0m \u001b[0;36m0\u001b[0m\u001b[0;34m]\u001b[0m\u001b[0;34m)\u001b[0m\u001b[0;34m\u001b[0m\u001b[0;34m\u001b[0m\u001b[0m\n",
      "\u001b[0;31mTypeError\u001b[0m: 'NoneType' object is not iterable"
     ]
    }
   ],
   "source": [
    "# import necessary libraries\n",
    "import pandas as pd\n",
    "import numpy as np\n",
    "import matplotlib.pyplot as plt\n",
    "\n",
    "# read dataset\n",
    "advertising = pd.read_csv('resources/datasets/advertising.csv')\n",
    "x = normalize(advertising[['TV','radio','newspaper']].values)\n",
    "y = normalize(advertising[['sales']].values)\n",
    "\n",
    "# normalize data\n",
    "def normalize(data):\n",
    "    for row in data.T:\n",
    "        f_mean = np.mean(row)\n",
    "        f_range = np.amax(row) - np.amin(row)\n",
    "        \n",
    "        row -= f_mean\n",
    "        row /= f_range\n",
    "    return data\n",
    "\n",
    "# predict\n",
    "def predict(x, weights, bias):\n",
    "    return np.dot(x, weights) + bias\n",
    "    \n",
    "# error and calculate cost\n",
    "def mean_square_error(y_hat, y):\n",
    "    n = y_hat.shape[0]\n",
    "    error = (y - y_hat)\n",
    "    sq_error = np.multiply(error, error)\n",
    "    return (1 / (2 * n)) * sq_error.sum()\n",
    "\n",
    "# update weight\n",
    "def update_parameters(x, y, y_hat, weights, bias, learning_rate=0.05):\n",
    "    \n",
    "    n = x.shape[0]\n",
    "    \n",
    "    # calculate error\n",
    "    error = y - y_hat\n",
    "    \n",
    "    # calculate derivatives \n",
    "    dw = np.dot(-x.T, error) / n\n",
    "    db = -error.sum() / n\n",
    "    \n",
    "    # update w and b\n",
    "    weights -= dw * learning_rate\n",
    "    bias -= db * learning_rate\n",
    "\n",
    "# fit\n",
    "def train(x, y, iterations=100):\n",
    "    # initialize weights and bias\n",
    "    w = np.random.rand(3,1)\n",
    "    b = np.ones((1,1))\n",
    "\n",
    "    for n in range(100):\n",
    "        y_hat = predict(x, w, b)\n",
    "        update_parameters(x, y, y_hat, w, b)\n",
    "        \n",
    "        if (n + 1) % 10 == 0:\n",
    "            print(\"%ith iteration error: %s\" % (n + 1, mean_square_error(y_hat, y)))\n",
    "    \n",
    "    return w, b\n",
    "\n",
    "w, b = train(x, y)\n",
    "\n",
    "ys = []\n",
    "xs = []\n",
    "\n",
    "for i in range(1, 10):\n",
    "    xs.append(1/i)\n",
    "    ys.append(w[0, 0] * (1/i) + b[0, 0])\n",
    "\n",
    "plt.plot(x[:,0], y, 'ro')\n",
    "plt.axis([-0.5, 1, -0.5, 1])\n",
    "plt.show()\n"
   ]
  },
  {
   "cell_type": "code",
   "execution_count": null,
   "metadata": {},
   "outputs": [],
   "source": []
  },
  {
   "cell_type": "code",
   "execution_count": null,
   "metadata": {},
   "outputs": [],
   "source": []
  },
  {
   "cell_type": "code",
   "execution_count": null,
   "metadata": {},
   "outputs": [],
   "source": []
  },
  {
   "cell_type": "code",
   "execution_count": null,
   "metadata": {},
   "outputs": [],
   "source": []
  },
  {
   "cell_type": "code",
   "execution_count": null,
   "metadata": {},
   "outputs": [],
   "source": []
  },
  {
   "cell_type": "code",
   "execution_count": null,
   "metadata": {},
   "outputs": [],
   "source": []
  },
  {
   "cell_type": "code",
   "execution_count": null,
   "metadata": {},
   "outputs": [],
   "source": []
  },
  {
   "cell_type": "code",
   "execution_count": null,
   "metadata": {},
   "outputs": [],
   "source": []
  },
  {
   "cell_type": "code",
   "execution_count": null,
   "metadata": {},
   "outputs": [],
   "source": []
  },
  {
   "cell_type": "code",
   "execution_count": null,
   "metadata": {},
   "outputs": [],
   "source": []
  },
  {
   "cell_type": "code",
   "execution_count": null,
   "metadata": {},
   "outputs": [],
   "source": []
  }
 ],
 "metadata": {
  "kernelspec": {
   "display_name": "Python 3",
   "language": "python",
   "name": "python3"
  },
  "language_info": {
   "codemirror_mode": {
    "name": "ipython",
    "version": 3
   },
   "file_extension": ".py",
   "mimetype": "text/x-python",
   "name": "python",
   "nbconvert_exporter": "python",
   "pygments_lexer": "ipython3",
   "version": "3.7.1"
  }
 },
 "nbformat": 4,
 "nbformat_minor": 2
}
